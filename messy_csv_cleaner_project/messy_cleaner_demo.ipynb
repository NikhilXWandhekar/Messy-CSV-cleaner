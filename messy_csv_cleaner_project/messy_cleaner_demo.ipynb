{
  "cells": [
    {
      "cell_type": "markdown",
      "metadata": {},
      "source": [
        "# Messy CSV Cleaner\n",
        "This notebook demonstrates loading the messy CSV, running the cleaner, and showing before/after."
      ]
    },
    {
      "cell_type": "code",
      "metadata": {},
      "source": [
        "import pandas as pd\n",
        "from cleaner import clean_dataframe\n",
        "df = pd.read_csv('data/messy_data.csv')\n",
        "print('Before')\n",
        "display(df)\n",
        "cleaned, actions = clean_dataframe(df)\n",
        "print('\\nAfter')\n",
        "display(cleaned)\n",
        "print('\\nActions:')\n",
        "for a in actions:\n",
        "    print('-', a)\n"
      ]
    }
  ],
  "metadata": {
    "kernelspec": {
      "display_name": "Python 3",
      "language": "python",
      "name": "python3"
    },
    "language_info": {
      "name": "python",
      "version": "3.11"
    }
  },
  "nbformat": 4,
  "nbformat_minor": 5
}